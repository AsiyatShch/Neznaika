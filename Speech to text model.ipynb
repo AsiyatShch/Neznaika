{
 "cells": [
  {
   "cell_type": "markdown",
   "metadata": {},
   "source": [
    "## Задача: распознавание речи в текст на русском языке"
   ]
  },
  {
   "cell_type": "code",
   "execution_count": 1,
   "metadata": {},
   "outputs": [],
   "source": [
    "# Для начала импортируем библиотеки \n",
    "import speech_recognition as sr # распознавание речи \n",
    "import pyaudio # работа с аудио \n",
    "import wave # работа с форматом wav"
   ]
  },
  {
   "cell_type": "markdown",
   "metadata": {},
   "source": [
    "### 1. Работа с предварительно записанными файлами"
   ]
  },
  {
   "cell_type": "code",
   "execution_count": 30,
   "metadata": {},
   "outputs": [],
   "source": [
    "# Создадим функцию, которая будет принимать на вход аудиофайл и возвращать расшифровку\n",
    "\n",
    "def get_text(your_path):\n",
    "    \n",
    "    recognizer = sr.Recognizer() # распознаватель речи \n",
    "    audio_file = sr.AudioFile(your_path) # загружаем аудиофайл \n",
    "    \n",
    "    with audio_file as source: # работаем с аудиофайлом\n",
    "        audio_data = recognizer.record(source) # создаем объект speech recognition \n",
    "        text = recognizer.recognize_google(audio_data, language='ru-RU') # передаем на расшифровку, указав язык\n",
    "    \n",
    "    return text # функция возвращает расшифровку"
   ]
  },
  {
   "cell_type": "code",
   "execution_count": 3,
   "metadata": {},
   "outputs": [],
   "source": [
    "# Создадим для пользователя возможность загрузить аудиофайл\n",
    "your_file = input('Скопируйте ссылку на аудиофайл формата wav: ')"
   ]
  },
  {
   "cell_type": "code",
   "execution_count": 32,
   "metadata": {},
   "outputs": [
    {
     "data": {
      "text/plain": [
       "'начальнику второго отделения прибыть в кабинет номер 30'"
      ]
     },
     "execution_count": 32,
     "metadata": {},
     "output_type": "execute_result"
    }
   ],
   "source": [
    "# Вызовем функцию, в качестве аргумента - путь к выбранному аудиофайлу\n",
    "get_text(your_file) "
   ]
  },
  {
   "cell_type": "markdown",
   "metadata": {},
   "source": [
    "Программа успешно расшифровала аудиофайл."
   ]
  },
  {
   "cell_type": "code",
   "execution_count": 6,
   "metadata": {},
   "outputs": [],
   "source": [
    "# Также мы можем просто ввести путь к файлу в аргумент функции \n",
    "text = get_text(\"C://Users//Пупик//Desktop//482a9eee43ef.wav\")"
   ]
  },
  {
   "cell_type": "code",
   "execution_count": 66,
   "metadata": {},
   "outputs": [],
   "source": [
    "# Теперь сохраним расшифровку в формате txt\n",
    "with open('text.txt', 'w') as f:\n",
    "    f.write(text)"
   ]
  },
  {
   "cell_type": "code",
   "execution_count": 48,
   "metadata": {},
   "outputs": [
    {
     "name": "stdout",
     "output_type": "stream",
     "text": [
      "Я вас слушаю внимательно\n",
      "1987\n",
      "нет подожди вообще не помнишь свой номер телефона домашний мобильник или ещё что\n"
     ]
    }
   ],
   "source": [
    "# Протестируем функцию на других аудиофайлах\n",
    "\n",
    "text = get_text(\"C://Users//Пупик//Desktop//37da1fa77a58.wav\")\n",
    "print(text)\n",
    "text = get_text(\"C://Users//Пупик//Desktop//cc1ab916f1e0.wav\")\n",
    "print(text)\n",
    "text = get_text(\"C://Users//Пупик//Desktop//9ddd7899403c.wav\")\n",
    "print(text)"
   ]
  },
  {
   "cell_type": "markdown",
   "metadata": {},
   "source": [
    "Программа работает корректно. "
   ]
  },
  {
   "cell_type": "markdown",
   "metadata": {},
   "source": [
    "### 2. Работа с голосовым потоком в реальном времени"
   ]
  },
  {
   "cell_type": "code",
   "execution_count": 49,
   "metadata": {},
   "outputs": [],
   "source": [
    "recognizer = sr.Recognizer() # распознаватель речи \n",
    "p = pyaudio.PyAudio() # объект для обращения к устройству звукозаписи"
   ]
  },
  {
   "cell_type": "code",
   "execution_count": 50,
   "metadata": {},
   "outputs": [],
   "source": [
    "# Добавим параметры записи звука\n",
    "CHUNK = 1024 # определяет форму аудио сигнала\n",
    "FRT = pyaudio.paInt16 #  значение амплитуды\n",
    "CHAN = 1 # канал записи звука\n",
    "RT = 44100 # частота \n",
    "REC_SEC = 10 #длина записи\n",
    "OUTPUT = \"output.wav\" # результат записи"
   ]
  },
  {
   "cell_type": "code",
   "execution_count": 51,
   "metadata": {},
   "outputs": [
    {
     "name": "stdout",
     "output_type": "stream",
     "text": [
      "Идет запись, говорите\n",
      "Запись завершена\n"
     ]
    }
   ],
   "source": [
    "# Добавим возможность записать аудио \n",
    "stream = p.open(format=FRT,channels=CHAN,rate=RT,input=True,frames_per_buffer=CHUNK) # начинается запись\n",
    "print(\"Идет запись, говорите\")\n",
    "frames = [] # формируем выборку данных фреймов\n",
    "for i in range(0, int(RT / CHUNK * REC_SEC)):\n",
    "    data = stream.read(CHUNK)\n",
    "    frames.append(data)\n",
    "print(\"Запись завершена\")\n",
    "stream.stop_stream() # останавливаем запись\n",
    "stream.close() # закрываем запись\n",
    "p.terminate()"
   ]
  },
  {
   "cell_type": "code",
   "execution_count": 52,
   "metadata": {},
   "outputs": [],
   "source": [
    "# Запишем звуковую дорожку в файл\n",
    "w = wave.open(OUTPUT, 'wb') # открываем файл для записи\n",
    "w.setnchannels(CHAN) # устанавливаем число каналов\n",
    "w.setsampwidth(p.get_sample_size(FRT)) # устанавливаем ширину выборки\n",
    "w.setframerate(RT) # устанавливаем частоту кадров \n",
    "w.writeframes(b''.join(frames)) # записываем \n",
    "w.close() # закрываем файл"
   ]
  },
  {
   "cell_type": "code",
   "execution_count": 53,
   "metadata": {},
   "outputs": [],
   "source": [
    "# Сохраняем запись в новую переменную\n",
    "sample = sr.WavFile('C://Users//Пупик//Documents//Глупоматика//Программирование//Эксмо//output.wav')"
   ]
  },
  {
   "cell_type": "code",
   "execution_count": 54,
   "metadata": {},
   "outputs": [],
   "source": [
    "# Преобразуем в объект модуля speech recognition\n",
    "with sample as audio:\n",
    "    content = recognizer.record(audio)\n",
    "    recognizer.adjust_for_ambient_noise(audio) # очистим аудио от шумов"
   ]
  },
  {
   "cell_type": "code",
   "execution_count": 56,
   "metadata": {},
   "outputs": [],
   "source": [
    "text = recognizer.recognize_google(content, language=\"ru-RU\") # производим расшифровку\n",
    "print(text) # выводим результат "
   ]
  }
 ],
 "metadata": {
  "kernelspec": {
   "display_name": "Python 3",
   "language": "python",
   "name": "python3"
  },
  "language_info": {
   "codemirror_mode": {
    "name": "ipython",
    "version": 3
   },
   "file_extension": ".py",
   "mimetype": "text/x-python",
   "name": "python",
   "nbconvert_exporter": "python",
   "pygments_lexer": "ipython3",
   "version": "3.9.13"
  },
  "orig_nbformat": 4
 },
 "nbformat": 4,
 "nbformat_minor": 2
}
